{
 "cells": [
  {
   "cell_type": "code",
   "execution_count": 8,
   "id": "f02ff060",
   "metadata": {},
   "outputs": [
    {
     "name": "stdout",
     "output_type": "stream",
     "text": [
      "0.33037955852045287\n",
      "0.9659811991772382\n",
      "0.23703898811033788\n"
     ]
    }
   ],
   "source": [
    "import spacy\n",
    "nlp = spacy.load(\"en_core_web_lg\")\n",
    "#nlp = spacy.load(\"en_core_web_md\")\n",
    "\n",
    "\n",
    "doc1 = nlp(u'the person wear red T-shirt')\n",
    "doc2 = nlp(u'this person is walking')\n",
    "doc3 = nlp(u'the boy wear red T-shirt')\n",
    "\n",
    "\n",
    "print(doc1.similarity(doc2)) \n",
    "print(doc1.similarity(doc3))\n",
    "print(doc2.similarity(doc3)) "
   ]
  },
  {
   "cell_type": "code",
   "execution_count": null,
   "id": "8e8cb0d6",
   "metadata": {},
   "outputs": [],
   "source": []
  },
  {
   "cell_type": "code",
   "execution_count": 2,
   "id": "7a2da57b",
   "metadata": {},
   "outputs": [
    {
     "name": "stdout",
     "output_type": "stream",
     "text": [
      "Collecting linkedin-scraper\n",
      "  Downloading linkedin_scraper-2.11.2-py3-none-any.whl.metadata (10 kB)\n",
      "Requirement already satisfied: lxml in c:\\users\\ak064\\appdata\\local\\programs\\python\\python310\\lib\\site-packages (from linkedin-scraper) (4.9.2)\n",
      "Requirement already satisfied: requests in c:\\users\\ak064\\appdata\\local\\programs\\python\\python310\\lib\\site-packages (from linkedin-scraper) (2.28.2)\n",
      "Requirement already satisfied: selenium in c:\\users\\ak064\\appdata\\local\\programs\\python\\python310\\lib\\site-packages (from linkedin-scraper) (4.18.1)\n",
      "Requirement already satisfied: charset-normalizer<4,>=2 in c:\\users\\ak064\\appdata\\local\\programs\\python\\python310\\lib\\site-packages (from requests->linkedin-scraper) (3.1.0)\n",
      "Requirement already satisfied: idna<4,>=2.5 in c:\\users\\ak064\\appdata\\local\\programs\\python\\python310\\lib\\site-packages (from requests->linkedin-scraper) (3.4)\n",
      "Requirement already satisfied: urllib3<1.27,>=1.21.1 in c:\\users\\ak064\\appdata\\local\\programs\\python\\python310\\lib\\site-packages (from requests->linkedin-scraper) (1.26.15)\n",
      "Requirement already satisfied: certifi>=2017.4.17 in c:\\users\\ak064\\appdata\\local\\programs\\python\\python310\\lib\\site-packages (from requests->linkedin-scraper) (2022.12.7)\n",
      "Requirement already satisfied: trio~=0.17 in c:\\users\\ak064\\appdata\\local\\programs\\python\\python310\\lib\\site-packages (from selenium->linkedin-scraper) (0.24.0)\n",
      "Requirement already satisfied: trio-websocket~=0.9 in c:\\users\\ak064\\appdata\\local\\programs\\python\\python310\\lib\\site-packages (from selenium->linkedin-scraper) (0.11.1)\n",
      "Requirement already satisfied: typing_extensions>=4.9.0 in c:\\users\\ak064\\appdata\\local\\programs\\python\\python310\\lib\\site-packages (from selenium->linkedin-scraper) (4.10.0)\n",
      "Requirement already satisfied: attrs>=20.1.0 in c:\\users\\ak064\\appdata\\local\\programs\\python\\python310\\lib\\site-packages (from trio~=0.17->selenium->linkedin-scraper) (22.2.0)\n",
      "Requirement already satisfied: sortedcontainers in c:\\users\\ak064\\appdata\\local\\programs\\python\\python310\\lib\\site-packages (from trio~=0.17->selenium->linkedin-scraper) (2.4.0)\n",
      "Requirement already satisfied: outcome in c:\\users\\ak064\\appdata\\local\\programs\\python\\python310\\lib\\site-packages (from trio~=0.17->selenium->linkedin-scraper) (1.3.0.post0)\n",
      "Requirement already satisfied: sniffio>=1.3.0 in c:\\users\\ak064\\appdata\\local\\programs\\python\\python310\\lib\\site-packages (from trio~=0.17->selenium->linkedin-scraper) (1.3.0)\n",
      "Requirement already satisfied: cffi>=1.14 in c:\\users\\ak064\\appdata\\local\\programs\\python\\python310\\lib\\site-packages (from trio~=0.17->selenium->linkedin-scraper) (1.15.1)\n",
      "Requirement already satisfied: exceptiongroup in c:\\users\\ak064\\appdata\\local\\programs\\python\\python310\\lib\\site-packages (from trio~=0.17->selenium->linkedin-scraper) (1.1.0)\n",
      "Requirement already satisfied: wsproto>=0.14 in c:\\users\\ak064\\appdata\\local\\programs\\python\\python310\\lib\\site-packages (from trio-websocket~=0.9->selenium->linkedin-scraper) (1.2.0)\n",
      "Requirement already satisfied: PySocks!=1.5.7,<2.0,>=1.5.6 in c:\\users\\ak064\\appdata\\local\\programs\\python\\python310\\lib\\site-packages (from urllib3[socks]<3,>=1.26->selenium->linkedin-scraper) (1.7.1)\n",
      "Requirement already satisfied: pycparser in c:\\users\\ak064\\appdata\\local\\programs\\python\\python310\\lib\\site-packages (from cffi>=1.14->trio~=0.17->selenium->linkedin-scraper) (2.21)\n",
      "Requirement already satisfied: h11<1,>=0.9.0 in c:\\users\\ak064\\appdata\\local\\programs\\python\\python310\\lib\\site-packages (from wsproto>=0.14->trio-websocket~=0.9->selenium->linkedin-scraper) (0.14.0)\n",
      "Downloading linkedin_scraper-2.11.2-py3-none-any.whl (28 kB)\n",
      "Installing collected packages: linkedin-scraper\n",
      "Successfully installed linkedin-scraper-2.11.2\n"
     ]
    },
    {
     "name": "stderr",
     "output_type": "stream",
     "text": [
      "WARNING: Ignoring invalid distribution -pencv-python (c:\\users\\ak064\\appdata\\local\\programs\\python\\python310\\lib\\site-packages)\n",
      "WARNING: Ignoring invalid distribution -pencv-python (c:\\users\\ak064\\appdata\\local\\programs\\python\\python310\\lib\\site-packages)\n"
     ]
    }
   ],
   "source": [
    "# !pip install linkedin-scraper"
   ]
  },
  {
   "cell_type": "code",
   "execution_count": null,
   "id": "4db50a6d",
   "metadata": {},
   "outputs": [],
   "source": []
  }
 ],
 "metadata": {
  "kernelspec": {
   "display_name": "Python 3 (ipykernel)",
   "language": "python",
   "name": "python3"
  },
  "language_info": {
   "codemirror_mode": {
    "name": "ipython",
    "version": 3
   },
   "file_extension": ".py",
   "mimetype": "text/x-python",
   "name": "python",
   "nbconvert_exporter": "python",
   "pygments_lexer": "ipython3",
   "version": "3.10.9"
  }
 },
 "nbformat": 4,
 "nbformat_minor": 5
}
