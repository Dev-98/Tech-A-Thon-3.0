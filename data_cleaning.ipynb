{
 "cells": [
  {
   "cell_type": "code",
   "execution_count": 27,
   "id": "8b92fe68",
   "metadata": {},
   "outputs": [],
   "source": [
    "# !pip install pdfminer.six\n",
    "import re\n",
    "import pandas as pd\n",
    "from pdfminer.high_level import extract_text\n",
    "    \n",
    "    \n",
    "import nltk\n",
    "from nltk.corpus import stopwords\n",
    "from nltk.tokenize import word_tokenize\n"
   ]
  },
  {
   "cell_type": "code",
   "execution_count": 1,
   "id": "abb2b15d",
   "metadata": {},
   "outputs": [
    {
     "name": "stderr",
     "output_type": "stream",
     "text": [
      "c:\\Users\\DELL\\AppData\\Local\\Programs\\Python\\Python310\\lib\\site-packages\\spacy\\util.py:885: UserWarning: [W094] Model 'en_training' (0.0.0) specifies an under-constrained spaCy version requirement: >=2.1.4. This can lead to compatibility problems with older versions, or as new spaCy versions are released, because the model may say it's compatible when it's not. Consider changing the \"spacy_version\" in your meta.json to a version range, with a lower and upper pin. For example: >=3.5.0,<3.6.0\n",
      "  warnings.warn(warn_msg)\n"
     ]
    },
    {
     "ename": "OSError",
     "evalue": "[E053] Could not read config file from c:\\Users\\DELL\\AppData\\Local\\Programs\\Python\\Python310\\lib\\site-packages\\pyresparser\\config.cfg",
     "output_type": "error",
     "traceback": [
      "\u001b[1;31m---------------------------------------------------------------------------\u001b[0m",
      "\u001b[1;31mOSError\u001b[0m                                   Traceback (most recent call last)",
      "Cell \u001b[1;32mIn[1], line 3\u001b[0m\n\u001b[0;32m      1\u001b[0m \u001b[38;5;28;01mfrom\u001b[39;00m \u001b[38;5;21;01mpyresparser\u001b[39;00m \u001b[38;5;28;01mimport\u001b[39;00m ResumeParser\n\u001b[1;32m----> 3\u001b[0m data \u001b[38;5;241m=\u001b[39m \u001b[43mResumeParser\u001b[49m\u001b[43m(\u001b[49m\u001b[38;5;124;43m\"\u001b[39;49m\u001b[38;5;124;43mAman resume for y2.pdf\u001b[39;49m\u001b[38;5;124;43m\"\u001b[39;49m\u001b[43m)\u001b[49m\u001b[38;5;241m.\u001b[39mget_extracted_data()\n\u001b[0;32m      5\u001b[0m data\n",
      "File \u001b[1;32mc:\\Users\\DELL\\AppData\\Local\\Programs\\Python\\Python310\\lib\\site-packages\\pyresparser\\resume_parser.py:21\u001b[0m, in \u001b[0;36mResumeParser.__init__\u001b[1;34m(self, resume, skills_file, custom_regex)\u001b[0m\n\u001b[0;32m     14\u001b[0m \u001b[38;5;28;01mdef\u001b[39;00m \u001b[38;5;21m__init__\u001b[39m(\n\u001b[0;32m     15\u001b[0m     \u001b[38;5;28mself\u001b[39m,\n\u001b[0;32m     16\u001b[0m     resume,\n\u001b[0;32m     17\u001b[0m     skills_file\u001b[38;5;241m=\u001b[39m\u001b[38;5;28;01mNone\u001b[39;00m,\n\u001b[0;32m     18\u001b[0m     custom_regex\u001b[38;5;241m=\u001b[39m\u001b[38;5;28;01mNone\u001b[39;00m\n\u001b[0;32m     19\u001b[0m ):\n\u001b[0;32m     20\u001b[0m     nlp \u001b[38;5;241m=\u001b[39m spacy\u001b[38;5;241m.\u001b[39mload(\u001b[38;5;124m'\u001b[39m\u001b[38;5;124men_core_web_sm\u001b[39m\u001b[38;5;124m'\u001b[39m)\n\u001b[1;32m---> 21\u001b[0m     custom_nlp \u001b[38;5;241m=\u001b[39m \u001b[43mspacy\u001b[49m\u001b[38;5;241;43m.\u001b[39;49m\u001b[43mload\u001b[49m\u001b[43m(\u001b[49m\u001b[43mos\u001b[49m\u001b[38;5;241;43m.\u001b[39;49m\u001b[43mpath\u001b[49m\u001b[38;5;241;43m.\u001b[39;49m\u001b[43mdirname\u001b[49m\u001b[43m(\u001b[49m\u001b[43mos\u001b[49m\u001b[38;5;241;43m.\u001b[39;49m\u001b[43mpath\u001b[49m\u001b[38;5;241;43m.\u001b[39;49m\u001b[43mabspath\u001b[49m\u001b[43m(\u001b[49m\u001b[38;5;18;43m__file__\u001b[39;49m\u001b[43m)\u001b[49m\u001b[43m)\u001b[49m\u001b[43m)\u001b[49m\n\u001b[0;32m     22\u001b[0m     \u001b[38;5;28mself\u001b[39m\u001b[38;5;241m.\u001b[39m__skills_file \u001b[38;5;241m=\u001b[39m skills_file\n\u001b[0;32m     23\u001b[0m     \u001b[38;5;28mself\u001b[39m\u001b[38;5;241m.\u001b[39m__custom_regex \u001b[38;5;241m=\u001b[39m custom_regex\n",
      "File \u001b[1;32mc:\\Users\\DELL\\AppData\\Local\\Programs\\Python\\Python310\\lib\\site-packages\\spacy\\__init__.py:54\u001b[0m, in \u001b[0;36mload\u001b[1;34m(name, vocab, disable, enable, exclude, config)\u001b[0m\n\u001b[0;32m     30\u001b[0m \u001b[38;5;28;01mdef\u001b[39;00m \u001b[38;5;21mload\u001b[39m(\n\u001b[0;32m     31\u001b[0m     name: Union[\u001b[38;5;28mstr\u001b[39m, Path],\n\u001b[0;32m     32\u001b[0m     \u001b[38;5;241m*\u001b[39m,\n\u001b[1;32m   (...)\u001b[0m\n\u001b[0;32m     37\u001b[0m     config: Union[Dict[\u001b[38;5;28mstr\u001b[39m, Any], Config] \u001b[38;5;241m=\u001b[39m util\u001b[38;5;241m.\u001b[39mSimpleFrozenDict(),\n\u001b[0;32m     38\u001b[0m ) \u001b[38;5;241m-\u001b[39m\u001b[38;5;241m>\u001b[39m Language:\n\u001b[0;32m     39\u001b[0m \u001b[38;5;250m    \u001b[39m\u001b[38;5;124;03m\"\"\"Load a spaCy model from an installed package or a local path.\u001b[39;00m\n\u001b[0;32m     40\u001b[0m \n\u001b[0;32m     41\u001b[0m \u001b[38;5;124;03m    name (str): Package name or model path.\u001b[39;00m\n\u001b[1;32m   (...)\u001b[0m\n\u001b[0;32m     52\u001b[0m \u001b[38;5;124;03m    RETURNS (Language): The loaded nlp object.\u001b[39;00m\n\u001b[0;32m     53\u001b[0m \u001b[38;5;124;03m    \"\"\"\u001b[39;00m\n\u001b[1;32m---> 54\u001b[0m     \u001b[38;5;28;01mreturn\u001b[39;00m \u001b[43mutil\u001b[49m\u001b[38;5;241;43m.\u001b[39;49m\u001b[43mload_model\u001b[49m\u001b[43m(\u001b[49m\n\u001b[0;32m     55\u001b[0m \u001b[43m        \u001b[49m\u001b[43mname\u001b[49m\u001b[43m,\u001b[49m\n\u001b[0;32m     56\u001b[0m \u001b[43m        \u001b[49m\u001b[43mvocab\u001b[49m\u001b[38;5;241;43m=\u001b[39;49m\u001b[43mvocab\u001b[49m\u001b[43m,\u001b[49m\n\u001b[0;32m     57\u001b[0m \u001b[43m        \u001b[49m\u001b[43mdisable\u001b[49m\u001b[38;5;241;43m=\u001b[39;49m\u001b[43mdisable\u001b[49m\u001b[43m,\u001b[49m\n\u001b[0;32m     58\u001b[0m \u001b[43m        \u001b[49m\u001b[43menable\u001b[49m\u001b[38;5;241;43m=\u001b[39;49m\u001b[43menable\u001b[49m\u001b[43m,\u001b[49m\n\u001b[0;32m     59\u001b[0m \u001b[43m        \u001b[49m\u001b[43mexclude\u001b[49m\u001b[38;5;241;43m=\u001b[39;49m\u001b[43mexclude\u001b[49m\u001b[43m,\u001b[49m\n\u001b[0;32m     60\u001b[0m \u001b[43m        \u001b[49m\u001b[43mconfig\u001b[49m\u001b[38;5;241;43m=\u001b[39;49m\u001b[43mconfig\u001b[49m\u001b[43m,\u001b[49m\n\u001b[0;32m     61\u001b[0m \u001b[43m    \u001b[49m\u001b[43m)\u001b[49m\n",
      "File \u001b[1;32mc:\\Users\\DELL\\AppData\\Local\\Programs\\Python\\Python310\\lib\\site-packages\\spacy\\util.py:434\u001b[0m, in \u001b[0;36mload_model\u001b[1;34m(name, vocab, disable, enable, exclude, config)\u001b[0m\n\u001b[0;32m    432\u001b[0m         \u001b[38;5;28;01mreturn\u001b[39;00m load_model_from_package(name, \u001b[38;5;241m*\u001b[39m\u001b[38;5;241m*\u001b[39mkwargs)  \u001b[38;5;66;03m# type: ignore[arg-type]\u001b[39;00m\n\u001b[0;32m    433\u001b[0m     \u001b[38;5;28;01mif\u001b[39;00m Path(name)\u001b[38;5;241m.\u001b[39mexists():  \u001b[38;5;66;03m# path to model data directory\u001b[39;00m\n\u001b[1;32m--> 434\u001b[0m         \u001b[38;5;28;01mreturn\u001b[39;00m load_model_from_path(Path(name), \u001b[38;5;241m*\u001b[39m\u001b[38;5;241m*\u001b[39mkwargs)  \u001b[38;5;66;03m# type: ignore[arg-type]\u001b[39;00m\n\u001b[0;32m    435\u001b[0m \u001b[38;5;28;01melif\u001b[39;00m \u001b[38;5;28mhasattr\u001b[39m(name, \u001b[38;5;124m\"\u001b[39m\u001b[38;5;124mexists\u001b[39m\u001b[38;5;124m\"\u001b[39m):  \u001b[38;5;66;03m# Path or Path-like to model data\u001b[39;00m\n\u001b[0;32m    436\u001b[0m     \u001b[38;5;28;01mreturn\u001b[39;00m load_model_from_path(name, \u001b[38;5;241m*\u001b[39m\u001b[38;5;241m*\u001b[39mkwargs)  \u001b[38;5;66;03m# type: ignore[arg-type]\u001b[39;00m\n",
      "File \u001b[1;32mc:\\Users\\DELL\\AppData\\Local\\Programs\\Python\\Python310\\lib\\site-packages\\spacy\\util.py:505\u001b[0m, in \u001b[0;36mload_model_from_path\u001b[1;34m(model_path, meta, vocab, disable, enable, exclude, config)\u001b[0m\n\u001b[0;32m    503\u001b[0m config_path \u001b[38;5;241m=\u001b[39m model_path \u001b[38;5;241m/\u001b[39m \u001b[38;5;124m\"\u001b[39m\u001b[38;5;124mconfig.cfg\u001b[39m\u001b[38;5;124m\"\u001b[39m\n\u001b[0;32m    504\u001b[0m overrides \u001b[38;5;241m=\u001b[39m dict_to_dot(config)\n\u001b[1;32m--> 505\u001b[0m config \u001b[38;5;241m=\u001b[39m \u001b[43mload_config\u001b[49m\u001b[43m(\u001b[49m\u001b[43mconfig_path\u001b[49m\u001b[43m,\u001b[49m\u001b[43m \u001b[49m\u001b[43moverrides\u001b[49m\u001b[38;5;241;43m=\u001b[39;49m\u001b[43moverrides\u001b[49m\u001b[43m)\u001b[49m\n\u001b[0;32m    506\u001b[0m nlp \u001b[38;5;241m=\u001b[39m load_model_from_config(\n\u001b[0;32m    507\u001b[0m     config,\n\u001b[0;32m    508\u001b[0m     vocab\u001b[38;5;241m=\u001b[39mvocab,\n\u001b[1;32m   (...)\u001b[0m\n\u001b[0;32m    512\u001b[0m     meta\u001b[38;5;241m=\u001b[39mmeta,\n\u001b[0;32m    513\u001b[0m )\n\u001b[0;32m    514\u001b[0m \u001b[38;5;28;01mreturn\u001b[39;00m nlp\u001b[38;5;241m.\u001b[39mfrom_disk(model_path, exclude\u001b[38;5;241m=\u001b[39mexclude, overrides\u001b[38;5;241m=\u001b[39moverrides)\n",
      "File \u001b[1;32mc:\\Users\\DELL\\AppData\\Local\\Programs\\Python\\Python310\\lib\\site-packages\\spacy\\util.py:681\u001b[0m, in \u001b[0;36mload_config\u001b[1;34m(path, overrides, interpolate)\u001b[0m\n\u001b[0;32m    679\u001b[0m \u001b[38;5;28;01melse\u001b[39;00m:\n\u001b[0;32m    680\u001b[0m     \u001b[38;5;28;01mif\u001b[39;00m \u001b[38;5;129;01mnot\u001b[39;00m config_path \u001b[38;5;129;01mor\u001b[39;00m \u001b[38;5;129;01mnot\u001b[39;00m config_path\u001b[38;5;241m.\u001b[39mis_file():\n\u001b[1;32m--> 681\u001b[0m         \u001b[38;5;28;01mraise\u001b[39;00m \u001b[38;5;167;01mIOError\u001b[39;00m(Errors\u001b[38;5;241m.\u001b[39mE053\u001b[38;5;241m.\u001b[39mformat(path\u001b[38;5;241m=\u001b[39mconfig_path, name\u001b[38;5;241m=\u001b[39m\u001b[38;5;124m\"\u001b[39m\u001b[38;5;124mconfig file\u001b[39m\u001b[38;5;124m\"\u001b[39m))\n\u001b[0;32m    682\u001b[0m     \u001b[38;5;28;01mreturn\u001b[39;00m config\u001b[38;5;241m.\u001b[39mfrom_disk(\n\u001b[0;32m    683\u001b[0m         config_path, overrides\u001b[38;5;241m=\u001b[39moverrides, interpolate\u001b[38;5;241m=\u001b[39minterpolate\n\u001b[0;32m    684\u001b[0m     )\n",
      "\u001b[1;31mOSError\u001b[0m: [E053] Could not read config file from c:\\Users\\DELL\\AppData\\Local\\Programs\\Python\\Python310\\lib\\site-packages\\pyresparser\\config.cfg"
     ]
    }
   ],
   "source": []
  },
  {
   "cell_type": "code",
   "execution_count": 28,
   "id": "ed349b2d",
   "metadata": {},
   "outputs": [],
   "source": [
    "def fetch_skills(pdf_file):\n",
    "    # !pip install pdfminer.six\n",
    "#     get text from pdf\n",
    "    text = extract_text(pdf_file).lower()\n",
    "    # skill = text.split(\"skills\")[1:]\n",
    "        \n",
    "#     get keywords\n",
    "    keywords = \" \".join(re.findall(r'[a-zA-Z]\\w+',text.lower()))\n",
    "\n",
    "\n",
    "    # Download NLTK stopwords corpus\n",
    "    # nltk.download('stopwords')\n",
    "    # nltk.download('punkt')\n",
    "    token_text = word_tokenize(keywords)\n",
    "    stop_words = stopwords.words('english')\n",
    "    clean_text = []\n",
    "    for i in token_text:\n",
    "        if i not in stop_words:\n",
    "            clean_text.append(i)\n",
    "    clean_text = \" \".join(clean_text)\n",
    "    \n",
    "    pattern = re.compile(r'[^a-zA-Z0-9\\s]')\n",
    "    clean_text = re.sub(pattern, '', clean_text).replace(\"\\n\", \"\")\n",
    "    \n",
    "        # Define a regular expression pattern to match numbers\n",
    "    pattern2 = r'\\d+'\n",
    "\n",
    "    # Remove numbers from the text using regex substitution\n",
    "    text_without_numbers = re.sub(pattern2, '', clean_text)\n",
    "    \n",
    "    return text_without_numbers"
   ]
  },
  {
   "cell_type": "code",
   "execution_count": null,
   "id": "868b371f",
   "metadata": {},
   "outputs": [],
   "source": []
  },
  {
   "cell_type": "code",
   "execution_count": null,
   "id": "4ff71242",
   "metadata": {},
   "outputs": [],
   "source": []
  },
  {
   "cell_type": "code",
   "execution_count": 1,
   "id": "e8b3fd55",
   "metadata": {},
   "outputs": [],
   "source": [
    "import pandas as pd\n",
    "import spacy\n",
    "\n",
    "load_data = pd.read_csv(\"data.csv\")\n",
    "load_data.reset_index(inplace=True)\n",
    "nlp = spacy.load(\"en_core_web_lg\")\n",
    "content = nlp(fetch_skills(\"Aman resume for y2.pdf\"))\n",
    "l = []\n",
    "for index, i in enumerate(load_data[\"Description\"]):\n",
    "    l.append(content.similarity(nlp(i)))\n",
    "final = sorted(list(enumerate(l)), reverse=True, key=lambda x: x[1])[0:6]\n",
    "for i, j in final:\n",
    "    print(load_data.iloc[i])"
   ]
  },
  {
   "cell_type": "code",
   "execution_count": 57,
   "id": "7ccc1a16",
   "metadata": {},
   "outputs": [],
   "source": [
    "load_data[\"content\"] = load_data[\"Description\"] + load_data[\"JobTitles\"]"
   ]
  },
  {
   "cell_type": "code",
   "execution_count": 60,
   "id": "4023ad85",
   "metadata": {},
   "outputs": [],
   "source": [
    "from sklearn.feature_extraction.text import CountVectorizer\n",
    "cv=CountVectorizer(max_features=5000,stop_words=\"english\")\n",
    "vectors = cv.fit_transform(load_data[\"content\"]).toarray()"
   ]
  },
  {
   "cell_type": "code",
   "execution_count": 61,
   "id": "4754a8a0",
   "metadata": {},
   "outputs": [
    {
     "data": {
      "text/plain": [
       "array([[0, 0, 0, ..., 0, 0, 0],\n",
       "       [0, 0, 0, ..., 0, 0, 0],\n",
       "       [0, 0, 0, ..., 0, 0, 0],\n",
       "       ...,\n",
       "       [0, 0, 0, ..., 0, 0, 0],\n",
       "       [0, 0, 0, ..., 0, 0, 0],\n",
       "       [0, 0, 0, ..., 0, 0, 0]], dtype=int64)"
      ]
     },
     "execution_count": 61,
     "metadata": {},
     "output_type": "execute_result"
    }
   ],
   "source": [
    "vectors"
   ]
  },
  {
   "cell_type": "code",
   "execution_count": 62,
   "id": "c036fe8f",
   "metadata": {},
   "outputs": [],
   "source": [
    "from sklearn.metrics.pairwise import cosine_similarity\n"
   ]
  },
  {
   "cell_type": "code",
   "execution_count": 63,
   "id": "6fa8de4d",
   "metadata": {},
   "outputs": [
    {
     "data": {
      "text/plain": [
       "array([[1.        , 0.17173031, 0.        , ..., 0.2362571 , 0.13328683,\n",
       "        0.12879861],\n",
       "       [0.17173031, 1.        , 0.        , ..., 0.16586995, 0.2211825 ,\n",
       "        0.3100325 ],\n",
       "       [0.        , 0.        , 1.        , ..., 0.        , 0.        ,\n",
       "        0.        ],\n",
       "       ...,\n",
       "       [0.2362571 , 0.16586995, 0.        , ..., 1.        , 0.21222324,\n",
       "        0.20141487],\n",
       "       [0.13328683, 0.2211825 , 0.        , ..., 0.21222324, 1.        ,\n",
       "        0.37188078],\n",
       "       [0.12879861, 0.3100325 , 0.        , ..., 0.20141487, 0.37188078,\n",
       "        1.        ]])"
      ]
     },
     "execution_count": 63,
     "metadata": {},
     "output_type": "execute_result"
    }
   ],
   "source": [
    "similarity = cosine_similarity(vectors)\n",
    "similarity"
   ]
  },
  {
   "cell_type": "code",
   "execution_count": 66,
   "id": "01aa07f4",
   "metadata": {},
   "outputs": [],
   "source": [
    "final = sorted(list(enumerate(similarity[0])), reverse=True, key=lambda x: x[1]) [1:6]\n"
   ]
  },
  {
   "cell_type": "code",
   "execution_count": 72,
   "id": "1ac5852f",
   "metadata": {},
   "outputs": [
    {
     "name": "stdout",
     "output_type": "stream",
     "text": [
      "index                                                           3\n",
      "Company_Name                 ODN Digital Services Private Limited\n",
      "JobTitles                                        Research Analyst\n",
      "Skills                Business Research , Effective Communication\n",
      "Description     Selected intern's day-to-day responsibilities ...\n",
      "Stipend                                     ₹ 5,000-10,000 /month\n",
      "Links           https://internshala.com/internship/detail/rese...\n",
      "content         Selected intern's day-to-day responsibilities ...\n",
      "Name: 3, dtype: object\n",
      "index                                                         417\n",
      "Company_Name                           Invest4Edu Private Limited\n",
      "JobTitles                       Educational Strategy And Research\n",
      "Skills          Business Research , Data Analysis , Effective ...\n",
      "Description     Selected intern's day-to-day responsibilities ...\n",
      "Stipend                                            ₹ 6,000 /month\n",
      "Links           https://internshala.com/internship/detail/work...\n",
      "content         Selected intern's day-to-day responsibilities ...\n",
      "Name: 417, dtype: object\n",
      "index                                                         190\n",
      "Company_Name                                              AntWalk\n",
      "JobTitles                             Data Acquisition (US Shift)\n",
      "Skills          Lead Generation , MS-Excel , MS-Office , MS-Po...\n",
      "Description     We are seeking a motivated and detail-oriented...\n",
      "Stipend                                    ₹ 10,000-15,000 /month\n",
      "Links           https://internshala.com/internship/detail/work...\n",
      "content         We are seeking a motivated and detail-oriented...\n",
      "Name: 190, dtype: object\n",
      "index                                                         224\n",
      "Company_Name               LogicLoom IT Solutions Private Limited\n",
      "JobTitles                                         Market Research\n",
      "Skills          Data Analysis , Effective Communication , Engl...\n",
      "Description     Selected intern's day-to-day responsibilities ...\n",
      "Stipend                                            ₹ 5,000 /month\n",
      "Links           https://internshala.com/internship/detail/work...\n",
      "content         Selected intern's day-to-day responsibilities ...\n",
      "Name: 224, dtype: object\n",
      "index                                                         112\n",
      "Company_Name                                       Business Quant\n",
      "JobTitles                                         Equity Research\n",
      "Skills                                                   MS-Excel\n",
      "Description     Selected intern's day-to-day responsibilities ...\n",
      "Stipend                                            ₹ 3,000 /month\n",
      "Links           https://internshala.com/internship/detail/work...\n",
      "content         Selected intern's day-to-day responsibilities ...\n",
      "Name: 112, dtype: object\n"
     ]
    }
   ],
   "source": []
  },
  {
   "cell_type": "code",
   "execution_count": 55,
   "id": "6db9ad3d",
   "metadata": {},
   "outputs": [
    {
     "name": "stdout",
     "output_type": "stream",
     "text": [
      "index                                                         345\n",
      "Company_Name                    Printila Services Private Limited\n",
      "JobTitles                                     Flutter Development\n",
      "Skills          Android , Cloud Firestore , Dart , Firebase , ...\n",
      "Description     We are thrilled to offer an exciting opportuni...\n",
      "Stipend                                            ₹ 5,000 /month\n",
      "Links           https://internshala.com/internship/detail/work...\n",
      "Name: 345, dtype: object\n",
      "index                                                         148\n",
      "Company_Name                                      Vibhor  Kataria\n",
      "JobTitles                                          Data Analytics\n",
      "Skills                                  Data Analytics , MS-Excel\n",
      "Description     Are you passionate about data analytics and ex...\n",
      "Stipend                              ₹ 3,000 /month +  Incentives\n",
      "Links           https://internshala.com/internship/detail/work...\n",
      "Name: 148, dtype: object\n",
      "index                                                         151\n",
      "Company_Name                      Brihat Infotech Private Limited\n",
      "JobTitles                                     Flutter Development\n",
      "Skills          Android , Cloud Firestore , Dart , Firebase , ...\n",
      "Description     We are seeking a talented Flutter Development ...\n",
      "Stipend                                            ₹ 5,000 /month\n",
      "Links           https://internshala.com/internship/detail/work...\n",
      "Name: 151, dtype: object\n",
      "index                                                         421\n",
      "Company_Name                                      Village Company\n",
      "JobTitles                                          Data Analytics\n",
      "Skills          Data Analytics , Google Analytics , MS-Excel ,...\n",
      "Description     We are seeking a dynamic and motivated data an...\n",
      "Stipend                                      ₹ 5,000-6,000 /month\n",
      "Links           https://internshala.com/internship/detail/data...\n",
      "Name: 421, dtype: object\n",
      "index                                                         196\n",
      "Company_Name                                               PayPie\n",
      "JobTitles                                       Flutter Developer\n",
      "Skills                                   Firebase , Flutter , Git\n",
      "Description     Are you a talented Flutter Developer looking t...\n",
      "Stipend                                            ₹ 7,000 /month\n",
      "Links           https://internshala.com/internship/detail/work...\n",
      "Name: 196, dtype: object\n",
      "index                                                          22\n",
      "Company_Name                         Hex Wireless Private Limited\n",
      "JobTitles                                      Webflow Web Design\n",
      "Skills                    Design Thinking , Webflow , Wireframing\n",
      "Description     As a Webflow Web Design Intern at Hex Wireless...\n",
      "Stipend                                            ₹ 6,000 /month\n",
      "Links           https://internshala.com/internship/detail/work...\n",
      "Name: 22, dtype: object\n"
     ]
    }
   ],
   "source": []
  },
  {
   "cell_type": "code",
   "execution_count": 51,
   "id": "27e07655",
   "metadata": {},
   "outputs": [
    {
     "data": {
      "text/plain": [
       "Index(['index', 'Company_Name', 'JobTitles', 'Skills', 'Description',\n",
       "       'Stipend', 'Links'],\n",
       "      dtype='object')"
      ]
     },
     "execution_count": 51,
     "metadata": {},
     "output_type": "execute_result"
    }
   ],
   "source": [
    "load_data.columns"
   ]
  }
 ],
 "metadata": {
  "kernelspec": {
   "display_name": "Python 3 (ipykernel)",
   "language": "python",
   "name": "python3"
  },
  "language_info": {
   "codemirror_mode": {
    "name": "ipython",
    "version": 3
   },
   "file_extension": ".py",
   "mimetype": "text/x-python",
   "name": "python",
   "nbconvert_exporter": "python",
   "pygments_lexer": "ipython3",
   "version": "3.10.3"
  }
 },
 "nbformat": 4,
 "nbformat_minor": 5
}
