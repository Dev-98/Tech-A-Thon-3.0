{
 "cells": [
  {
   "cell_type": "code",
   "execution_count": 27,
   "id": "8b92fe68",
   "metadata": {},
   "outputs": [],
   "source": [
    "# !pip install pdfminer.six\n",
    "import re\n",
    "import pandas as pd\n",
    "from pdfminer.high_level import extract_text\n",
    "    \n",
    "    \n",
    "import nltk\n",
    "from nltk.corpus import stopwords\n",
    "from nltk.tokenize import word_tokenize\n"
   ]
  },
  {
   "cell_type": "code",
   "execution_count": 28,
   "id": "ed349b2d",
   "metadata": {},
   "outputs": [],
   "source": [
    "def fetch_skills(pdf_file):\n",
    "    # !pip install pdfminer.six\n",
    "#     get text from pdf\n",
    "    text = extract_text(pdf_file).lower()\n",
    "    # skill = text.split(\"skills\")[1:]\n",
    "        \n",
    "#     get keywords\n",
    "    keywords = \" \".join(re.findall(r'[a-zA-Z]\\w+',text.lower()))\n",
    "\n",
    "\n",
    "    # Download NLTK stopwords corpus\n",
    "    # nltk.download('stopwords')\n",
    "    # nltk.download('punkt')\n",
    "    token_text = word_tokenize(keywords)\n",
    "    stop_words = stopwords.words('english')\n",
    "    clean_text = []\n",
    "    for i in token_text:\n",
    "        if i not in stop_words:\n",
    "            clean_text.append(i)\n",
    "    clean_text = \" \".join(clean_text)\n",
    "    \n",
    "    pattern = re.compile(r'[^a-zA-Z0-9\\s]')\n",
    "    clean_text = re.sub(pattern, '', clean_text).replace(\"\\n\", \"\")\n",
    "    \n",
    "        # Define a regular expression pattern to match numbers\n",
    "    pattern2 = r'\\d+'\n",
    "\n",
    "    # Remove numbers from the text using regex substitution\n",
    "    text_without_numbers = re.sub(pattern2, '', clean_text)\n",
    "    \n",
    "    return text_without_numbers"
   ]
  },
  {
   "cell_type": "code",
   "execution_count": null,
   "id": "868b371f",
   "metadata": {},
   "outputs": [],
   "source": []
  },
  {
   "cell_type": "code",
   "execution_count": null,
   "id": "4ff71242",
   "metadata": {},
   "outputs": [],
   "source": []
  },
  {
   "cell_type": "code",
   "execution_count": 1,
   "id": "e8b3fd55",
   "metadata": {},
   "outputs": [],
   "source": [
    "import pandas as pd\n",
    "import spacy\n",
    "\n",
    "load_data = pd.read_csv(\"data.csv\")\n",
    "load_data.reset_index(inplace=True)\n",
    "nlp = spacy.load(\"en_core_web_lg\")\n",
    "content = nlp(fetch_skills(\"Aman resume for y2.pdf\"))\n",
    "l = []\n",
    "for index, i in enumerate(load_data[\"Description\"]):\n",
    "    l.append(content.similarity(nlp(i)))\n",
    "final = sorted(list(enumerate(l)), reverse=True, key=lambda x: x[1])[0:6]\n",
    "for i, j in final:\n",
    "    print(load_data.iloc[i])"
   ]
  },
  {
   "cell_type": "code",
   "execution_count": 57,
   "id": "7ccc1a16",
   "metadata": {},
   "outputs": [],
   "source": [
    "load_data[\"content\"] = load_data[\"Description\"] + load_data[\"JobTitles\"]"
   ]
  },
  {
   "cell_type": "code",
   "execution_count": 60,
   "id": "4023ad85",
   "metadata": {},
   "outputs": [],
   "source": [
    "from sklearn.feature_extraction.text import CountVectorizer\n",
    "cv=CountVectorizer(max_features=5000,stop_words=\"english\")\n",
    "vectors = cv.fit_transform(load_data[\"content\"]).toarray()"
   ]
  },
  {
   "cell_type": "code",
   "execution_count": 61,
   "id": "4754a8a0",
   "metadata": {},
   "outputs": [
    {
     "data": {
      "text/plain": [
       "array([[0, 0, 0, ..., 0, 0, 0],\n",
       "       [0, 0, 0, ..., 0, 0, 0],\n",
       "       [0, 0, 0, ..., 0, 0, 0],\n",
       "       ...,\n",
       "       [0, 0, 0, ..., 0, 0, 0],\n",
       "       [0, 0, 0, ..., 0, 0, 0],\n",
       "       [0, 0, 0, ..., 0, 0, 0]], dtype=int64)"
      ]
     },
     "execution_count": 61,
     "metadata": {},
     "output_type": "execute_result"
    }
   ],
   "source": [
    "vectors"
   ]
  },
  {
   "cell_type": "code",
   "execution_count": 62,
   "id": "c036fe8f",
   "metadata": {},
   "outputs": [],
   "source": [
    "from sklearn.metrics.pairwise import cosine_similarity\n"
   ]
  },
  {
   "cell_type": "code",
   "execution_count": 63,
   "id": "6fa8de4d",
   "metadata": {},
   "outputs": [
    {
     "data": {
      "text/plain": [
       "array([[1.        , 0.17173031, 0.        , ..., 0.2362571 , 0.13328683,\n",
       "        0.12879861],\n",
       "       [0.17173031, 1.        , 0.        , ..., 0.16586995, 0.2211825 ,\n",
       "        0.3100325 ],\n",
       "       [0.        , 0.        , 1.        , ..., 0.        , 0.        ,\n",
       "        0.        ],\n",
       "       ...,\n",
       "       [0.2362571 , 0.16586995, 0.        , ..., 1.        , 0.21222324,\n",
       "        0.20141487],\n",
       "       [0.13328683, 0.2211825 , 0.        , ..., 0.21222324, 1.        ,\n",
       "        0.37188078],\n",
       "       [0.12879861, 0.3100325 , 0.        , ..., 0.20141487, 0.37188078,\n",
       "        1.        ]])"
      ]
     },
     "execution_count": 63,
     "metadata": {},
     "output_type": "execute_result"
    }
   ],
   "source": [
    "similarity = cosine_similarity(vectors)\n",
    "similarity"
   ]
  },
  {
   "cell_type": "code",
   "execution_count": 66,
   "id": "01aa07f4",
   "metadata": {},
   "outputs": [],
   "source": [
    "final = sorted(list(enumerate(similarity[0])), reverse=True, key=lambda x: x[1]) [1:6]\n"
   ]
  },
  {
   "cell_type": "code",
   "execution_count": 72,
   "id": "1ac5852f",
   "metadata": {},
   "outputs": [
    {
     "name": "stdout",
     "output_type": "stream",
     "text": [
      "index                                                           3\n",
      "Company_Name                 ODN Digital Services Private Limited\n",
      "JobTitles                                        Research Analyst\n",
      "Skills                Business Research , Effective Communication\n",
      "Description     Selected intern's day-to-day responsibilities ...\n",
      "Stipend                                     ₹ 5,000-10,000 /month\n",
      "Links           https://internshala.com/internship/detail/rese...\n",
      "content         Selected intern's day-to-day responsibilities ...\n",
      "Name: 3, dtype: object\n",
      "index                                                         417\n",
      "Company_Name                           Invest4Edu Private Limited\n",
      "JobTitles                       Educational Strategy And Research\n",
      "Skills          Business Research , Data Analysis , Effective ...\n",
      "Description     Selected intern's day-to-day responsibilities ...\n",
      "Stipend                                            ₹ 6,000 /month\n",
      "Links           https://internshala.com/internship/detail/work...\n",
      "content         Selected intern's day-to-day responsibilities ...\n",
      "Name: 417, dtype: object\n",
      "index                                                         190\n",
      "Company_Name                                              AntWalk\n",
      "JobTitles                             Data Acquisition (US Shift)\n",
      "Skills          Lead Generation , MS-Excel , MS-Office , MS-Po...\n",
      "Description     We are seeking a motivated and detail-oriented...\n",
      "Stipend                                    ₹ 10,000-15,000 /month\n",
      "Links           https://internshala.com/internship/detail/work...\n",
      "content         We are seeking a motivated and detail-oriented...\n",
      "Name: 190, dtype: object\n",
      "index                                                         224\n",
      "Company_Name               LogicLoom IT Solutions Private Limited\n",
      "JobTitles                                         Market Research\n",
      "Skills          Data Analysis , Effective Communication , Engl...\n",
      "Description     Selected intern's day-to-day responsibilities ...\n",
      "Stipend                                            ₹ 5,000 /month\n",
      "Links           https://internshala.com/internship/detail/work...\n",
      "content         Selected intern's day-to-day responsibilities ...\n",
      "Name: 224, dtype: object\n",
      "index                                                         112\n",
      "Company_Name                                       Business Quant\n",
      "JobTitles                                         Equity Research\n",
      "Skills                                                   MS-Excel\n",
      "Description     Selected intern's day-to-day responsibilities ...\n",
      "Stipend                                            ₹ 3,000 /month\n",
      "Links           https://internshala.com/internship/detail/work...\n",
      "content         Selected intern's day-to-day responsibilities ...\n",
      "Name: 112, dtype: object\n"
     ]
    }
   ],
   "source": []
  },
  {
   "cell_type": "code",
   "execution_count": 55,
   "id": "6db9ad3d",
   "metadata": {},
   "outputs": [
    {
     "name": "stdout",
     "output_type": "stream",
     "text": [
      "index                                                         345\n",
      "Company_Name                    Printila Services Private Limited\n",
      "JobTitles                                     Flutter Development\n",
      "Skills          Android , Cloud Firestore , Dart , Firebase , ...\n",
      "Description     We are thrilled to offer an exciting opportuni...\n",
      "Stipend                                            ₹ 5,000 /month\n",
      "Links           https://internshala.com/internship/detail/work...\n",
      "Name: 345, dtype: object\n",
      "index                                                         148\n",
      "Company_Name                                      Vibhor  Kataria\n",
      "JobTitles                                          Data Analytics\n",
      "Skills                                  Data Analytics , MS-Excel\n",
      "Description     Are you passionate about data analytics and ex...\n",
      "Stipend                              ₹ 3,000 /month +  Incentives\n",
      "Links           https://internshala.com/internship/detail/work...\n",
      "Name: 148, dtype: object\n",
      "index                                                         151\n",
      "Company_Name                      Brihat Infotech Private Limited\n",
      "JobTitles                                     Flutter Development\n",
      "Skills          Android , Cloud Firestore , Dart , Firebase , ...\n",
      "Description     We are seeking a talented Flutter Development ...\n",
      "Stipend                                            ₹ 5,000 /month\n",
      "Links           https://internshala.com/internship/detail/work...\n",
      "Name: 151, dtype: object\n",
      "index                                                         421\n",
      "Company_Name                                      Village Company\n",
      "JobTitles                                          Data Analytics\n",
      "Skills          Data Analytics , Google Analytics , MS-Excel ,...\n",
      "Description     We are seeking a dynamic and motivated data an...\n",
      "Stipend                                      ₹ 5,000-6,000 /month\n",
      "Links           https://internshala.com/internship/detail/data...\n",
      "Name: 421, dtype: object\n",
      "index                                                         196\n",
      "Company_Name                                               PayPie\n",
      "JobTitles                                       Flutter Developer\n",
      "Skills                                   Firebase , Flutter , Git\n",
      "Description     Are you a talented Flutter Developer looking t...\n",
      "Stipend                                            ₹ 7,000 /month\n",
      "Links           https://internshala.com/internship/detail/work...\n",
      "Name: 196, dtype: object\n",
      "index                                                          22\n",
      "Company_Name                         Hex Wireless Private Limited\n",
      "JobTitles                                      Webflow Web Design\n",
      "Skills                    Design Thinking , Webflow , Wireframing\n",
      "Description     As a Webflow Web Design Intern at Hex Wireless...\n",
      "Stipend                                            ₹ 6,000 /month\n",
      "Links           https://internshala.com/internship/detail/work...\n",
      "Name: 22, dtype: object\n"
     ]
    }
   ],
   "source": []
  },
  {
   "cell_type": "code",
   "execution_count": 51,
   "id": "27e07655",
   "metadata": {},
   "outputs": [
    {
     "data": {
      "text/plain": [
       "Index(['index', 'Company_Name', 'JobTitles', 'Skills', 'Description',\n",
       "       'Stipend', 'Links'],\n",
       "      dtype='object')"
      ]
     },
     "execution_count": 51,
     "metadata": {},
     "output_type": "execute_result"
    }
   ],
   "source": [
    "load_data.columns"
   ]
  },
  {
   "cell_type": "code",
   "execution_count": null,
   "id": "0fba4a7f",
   "metadata": {},
   "outputs": [],
   "source": []
  }
 ],
 "metadata": {
  "kernelspec": {
   "display_name": "Python 3 (ipykernel)",
   "language": "python",
   "name": "python3"
  },
  "language_info": {
   "codemirror_mode": {
    "name": "ipython",
    "version": 3
   },
   "file_extension": ".py",
   "mimetype": "text/x-python",
   "name": "python",
   "nbconvert_exporter": "python",
   "pygments_lexer": "ipython3",
   "version": "3.10.9"
  }
 },
 "nbformat": 4,
 "nbformat_minor": 5
}
